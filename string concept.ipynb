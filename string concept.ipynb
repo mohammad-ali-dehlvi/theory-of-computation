{
 "cells": [
  {
   "cell_type": "markdown",
   "metadata": {},
   "source": [
    "WAP to accept a sentence and to count no. of character, vowel, special and spaces"
   ]
  },
  {
   "cell_type": "code",
   "execution_count": 1,
   "metadata": {},
   "outputs": [
    {
     "name": "stdin",
     "output_type": "stream",
     "text": [
      " asd !@##$\n"
     ]
    },
    {
     "name": "stdout",
     "output_type": "stream",
     "text": [
      "no. of space =  1 \n",
      "no. of character =  3 \n",
      "no. of vowel =  1 \n",
      "no. of special character =  5\n"
     ]
    }
   ],
   "source": [
    "s=input()\n",
    "s=s.upper()\n",
    "char=0\n",
    "v=0\n",
    "ss=0\n",
    "space=0\n",
    "\n",
    "for i in s:\n",
    "    \n",
    "    if i==\" \":\n",
    "        space+=1\n",
    "    if (ord(i)>=ord('A') and ord(i)<=ord('Z')):\n",
    "        char+=1\n",
    "    if i==\"A\" or i==\"E\" or i==\"I\" or i==\"O\" or i==\"U\":\n",
    "        v+=1\n",
    "    if (ord(i)>=32 and ord(i)<=47 or ord(i)>=58 and ord(i)<=64 or ord(i)>=91 and ord(i)<=96 or ord(i)>=123 and ord(i)<=127) and ord(i)!= ord(\" \"):\n",
    "        ss+=1\n",
    "print(\"no. of space = \",space,\"\\nno. of character = \",char,\"\\nno. of vowel = \",v,\"\\nno. of special character = \",ss)\n"
   ]
  },
  {
   "cell_type": "markdown",
   "metadata": {},
   "source": [
    "WAP to read a file and found the number of words"
   ]
  },
  {
   "cell_type": "code",
   "execution_count": null,
   "metadata": {},
   "outputs": [],
   "source": []
  }
 ],
 "metadata": {
  "kernelspec": {
   "display_name": "Python 3",
   "language": "python",
   "name": "python3"
  },
  "language_info": {
   "codemirror_mode": {
    "name": "ipython",
    "version": 3
   },
   "file_extension": ".py",
   "mimetype": "text/x-python",
   "name": "python",
   "nbconvert_exporter": "python",
   "pygments_lexer": "ipython3",
   "version": "3.6.7"
  }
 },
 "nbformat": 4,
 "nbformat_minor": 2
}

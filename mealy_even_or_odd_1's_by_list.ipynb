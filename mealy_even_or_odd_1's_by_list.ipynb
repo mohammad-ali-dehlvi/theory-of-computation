{
 "cells": [
  {
   "cell_type": "markdown",
   "metadata": {},
   "source": [
    "mealy even or odd 1's with list"
   ]
  },
  {
   "cell_type": "code",
   "execution_count": 1,
   "metadata": {},
   "outputs": [
    {
     "name": "stdin",
     "output_type": "stream",
     "text": [
      "Enter string :  1011011\n"
     ]
    },
    {
     "name": "stdout",
     "output_type": "stream",
     "text": [
      "A on input 1  gives output odd\n",
      "B on input 0  gives output odd\n",
      "B on input 1  gives output even\n",
      "A on input 1  gives output odd\n",
      "B on input 0  gives output odd\n",
      "B on input 1  gives output even\n",
      "A on input 1  gives output odd\n",
      "output is odd\n"
     ]
    }
   ],
   "source": [
    "dfa={'A':{'0':['even','A'],'1':['odd','B']},\n",
    "     'B':{'0':['odd','B'],'1':['even','A']}}\n",
    "ini='A'\n",
    "l=['0','1']\n",
    "s=input(\"Enter string : \")\n",
    "x=ini\n",
    "c=0\n",
    "for i in s:\n",
    "    if i not in l:\n",
    "        c=-1\n",
    "        break\n",
    "    print(x,\"on input\",i,\" gives output\",dfa[x][i][0])\n",
    "    output=dfa[x][i][0]\n",
    "    x=dfa[x][i][1]\n",
    "print(\"output is\",output)"
   ]
  },
  {
   "cell_type": "code",
   "execution_count": null,
   "metadata": {},
   "outputs": [],
   "source": []
  }
 ],
 "metadata": {
  "kernelspec": {
   "display_name": "Python 3",
   "language": "python",
   "name": "python3"
  },
  "language_info": {
   "codemirror_mode": {
    "name": "ipython",
    "version": 3
   },
   "file_extension": ".py",
   "mimetype": "text/x-python",
   "name": "python",
   "nbconvert_exporter": "python",
   "pygments_lexer": "ipython3",
   "version": "3.7.3"
  }
 },
 "nbformat": 4,
 "nbformat_minor": 4
}

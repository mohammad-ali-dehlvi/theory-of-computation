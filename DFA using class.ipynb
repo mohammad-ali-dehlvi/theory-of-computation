{
 "cells": [
  {
   "cell_type": "markdown",
   "metadata": {},
   "source": [
    "DFA using class"
   ]
  },
  {
   "cell_type": "code",
   "execution_count": null,
   "metadata": {},
   "outputs": [
    {
     "name": "stdin",
     "output_type": "stream",
     "text": [
      "Enter number of states :  4\n"
     ]
    },
    {
     "name": "stdout",
     "output_type": "stream",
     "text": [
      "State set for this machine :  ['A', 'B', 'C', 'D']\n"
     ]
    },
    {
     "name": "stdin",
     "output_type": "stream",
     "text": [
      "Enter alphabets :  0 1\n"
     ]
    },
    {
     "name": "stdout",
     "output_type": "stream",
     "text": [
      "state A on input 0 goes to state "
     ]
    },
    {
     "name": "stdin",
     "output_type": "stream",
     "text": [
      " a\n"
     ]
    },
    {
     "name": "stdout",
     "output_type": "stream",
     "text": [
      "state A on input 1 goes to state "
     ]
    },
    {
     "name": "stdin",
     "output_type": "stream",
     "text": [
      " b\n"
     ]
    },
    {
     "name": "stdout",
     "output_type": "stream",
     "text": [
      "state B on input 0 goes to state "
     ]
    },
    {
     "name": "stdin",
     "output_type": "stream",
     "text": [
      " b\n"
     ]
    },
    {
     "name": "stdout",
     "output_type": "stream",
     "text": [
      "state B on input 1 goes to state "
     ]
    },
    {
     "name": "stdin",
     "output_type": "stream",
     "text": [
      " c\n"
     ]
    },
    {
     "name": "stdout",
     "output_type": "stream",
     "text": [
      "state C on input 0 goes to state "
     ]
    },
    {
     "name": "stdin",
     "output_type": "stream",
     "text": [
      " c\n"
     ]
    },
    {
     "name": "stdout",
     "output_type": "stream",
     "text": [
      "state C on input 1 goes to state "
     ]
    },
    {
     "name": "stdin",
     "output_type": "stream",
     "text": [
      " d\n"
     ]
    },
    {
     "name": "stdout",
     "output_type": "stream",
     "text": [
      "state D on input 0 goes to state "
     ]
    },
    {
     "name": "stdin",
     "output_type": "stream",
     "text": [
      " d\n"
     ]
    },
    {
     "name": "stdout",
     "output_type": "stream",
     "text": [
      "state D on input 1 goes to state "
     ]
    }
   ],
   "source": [
    "class DFA:\n",
    "    def __init__(s):\n",
    "        s.r=int(input(\"Enter number of states : \"))\n",
    "        s.q=[chr(ord(\"A\")+i) for i in range(s.r)]\n",
    "        print(\"State set for this machine : \",s.q)\n",
    "        s.l=[x for x in input(\"Enter alphabets : \").split()]\n",
    "        s.d={}\n",
    "        for i in range(len(s.q)):\n",
    "            s.d[s.q[i]]={}\n",
    "            for j in range(len(s.l)):\n",
    "                print(\"state {} on input {} goes to state \".format(s.q[i],s.l[j]),end=\"\")\n",
    "                x=input().upper()\n",
    "                while x not in s.q:\n",
    "                    print(\"state is not present\\n\"+\"state {} on input {} goes to state \".format(s.q[i],s.l[j]),end=\"\")\n",
    "                    x=input().upper()\n",
    "                s.d[s.q[i]][s.l[j]]=x\n",
    "        s.a=input(\"Enter initial state (alphabet): \").upper()\n",
    "        while s.a not in s.q:\n",
    "            print(\"Error in state\\nEnter initial state (alphabet): \",end=\"\")\n",
    "            s.a=input().upper()\n",
    "        s.f=[x for x in input(\"Enter list of final states (alphabet) \").split()]\n",
    "        for i in range(len(s.f)):\n",
    "            s.f[i]=s.f[i].upper()\n",
    "            while s.f[i] not in s.q:\n",
    "                print(\"{} is not present in state set\".format(s.f[i]))\n",
    "                print(\"You want to re-place it\\n1) Yes   2) No\")\n",
    "                x=int(input())\n",
    "                while x!=1 and x!=2:\n",
    "                    print(\"Invalid entrie\")\n",
    "                    x=int(input(\"Enter again : \"))\n",
    "                if x==1:\n",
    "                    s.f[i]=input()\n",
    "                else:\n",
    "                    s.f.pop(i)\n",
    "    def truestring(s,string):\n",
    "        x=s.a\n",
    "        print(\"Traverse from\\n1) Right (<-)  or  2) Left (->)\")\n",
    "        r=int(input())\n",
    "        while r!=1 and r!=2:\n",
    "            print(\"Invalid entrie\")\n",
    "            r=int(input(\"Enter again : \"))\n",
    "        if r==1:\n",
    "            string=string[::-1]\n",
    "        for i in string:\n",
    "            if i not in s.l:\n",
    "                if r==1:\n",
    "                    string=string[::-1]\n",
    "                print(string,\" is invalid \",i,\" is not in alphabet set\")\n",
    "                return\n",
    "            print(x,\" on input \",i,\" goes to \",s.d[x][i])\n",
    "            x=s.d[x][i]\n",
    "        if r==1:\n",
    "            string=string[::-1]\n",
    "        if x in s.f:\n",
    "            print(string,\" is valid\")\n",
    "        else:\n",
    "            print(string,\" is invalid\")\n",
    "        return\n",
    "    def table(s):\n",
    "        print(\"Transition table : \")\n",
    "        print(\"  \",end=\"| \")\n",
    "        for i in range(len(s.l)):\n",
    "            print(\"{}  \".format(s.l[i]),end=\"\")\n",
    "        print()\n",
    "        for i in range(len(s.q)):\n",
    "            print(\"{} | \".format(s.q[i]),end=\"\")\n",
    "            for j in range(len(s.l)):\n",
    "                print(\"{}  \".format(s.d[s.q[i]][s.l[j]]),end=\"\")\n",
    "            print()\n",
    "        print(s.f,\" are final state\",end=\"\")\n",
    "        if len(s.f)>1:\n",
    "            print(\"s\")\n",
    "o=DFA()\n",
    "s=input(\"Enter string to test\")\n",
    "o.truestring(s)\n",
    "o.table()"
   ]
  },
  {
   "cell_type": "code",
   "execution_count": null,
   "metadata": {},
   "outputs": [],
   "source": []
  }
 ],
 "metadata": {
  "kernelspec": {
   "display_name": "Python 3",
   "language": "python",
   "name": "python3"
  },
  "language_info": {
   "codemirror_mode": {
    "name": "ipython",
    "version": 3
   },
   "file_extension": ".py",
   "mimetype": "text/x-python",
   "name": "python",
   "nbconvert_exporter": "python",
   "pygments_lexer": "ipython3",
   "version": "3.7.3"
  }
 },
 "nbformat": 4,
 "nbformat_minor": 4
}

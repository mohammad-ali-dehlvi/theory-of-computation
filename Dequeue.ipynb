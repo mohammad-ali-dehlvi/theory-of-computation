{
 "cells": [
  {
   "cell_type": "markdown",
   "metadata": {},
   "source": [
    "Dequeue"
   ]
  },
  {
   "cell_type": "code",
   "execution_count": 1,
   "metadata": {},
   "outputs": [
    {
     "name": "stdout",
     "output_type": "stream",
     "text": [
      "1) enqueue  2) delete  3) print  4) size 5) stop\n"
     ]
    },
    {
     "name": "stdin",
     "output_type": "stream",
     "text": [
      " 1\n",
      "Enter number 5\n"
     ]
    },
    {
     "name": "stdout",
     "output_type": "stream",
     "text": [
      "Enter\n",
      "1) insert in front\n",
      "2) insert in back\n"
     ]
    },
    {
     "name": "stdin",
     "output_type": "stream",
     "text": [
      " 1\n"
     ]
    },
    {
     "name": "stdout",
     "output_type": "stream",
     "text": [
      "1) enqueue  2) delete  3) print  4) size 5) stop\n"
     ]
    },
    {
     "name": "stdin",
     "output_type": "stream",
     "text": [
      " 1\n",
      "Enter number 6\n"
     ]
    },
    {
     "name": "stdout",
     "output_type": "stream",
     "text": [
      "Enter\n",
      "1) insert in front\n",
      "2) insert in back\n"
     ]
    },
    {
     "name": "stdin",
     "output_type": "stream",
     "text": [
      " 2\n"
     ]
    },
    {
     "name": "stdout",
     "output_type": "stream",
     "text": [
      "1) enqueue  2) delete  3) print  4) size 5) stop\n"
     ]
    },
    {
     "name": "stdin",
     "output_type": "stream",
     "text": [
      " 1\n",
      "Enter number 10\n"
     ]
    },
    {
     "name": "stdout",
     "output_type": "stream",
     "text": [
      "Enter\n",
      "1) insert in front\n",
      "2) insert in back\n"
     ]
    },
    {
     "name": "stdin",
     "output_type": "stream",
     "text": [
      " 1\n"
     ]
    },
    {
     "name": "stdout",
     "output_type": "stream",
     "text": [
      "1) enqueue  2) delete  3) print  4) size 5) stop\n"
     ]
    },
    {
     "name": "stdin",
     "output_type": "stream",
     "text": [
      " 2\n"
     ]
    },
    {
     "name": "stdout",
     "output_type": "stream",
     "text": [
      "Enter\n",
      "1) delete from front\n",
      "2) delete from back\n"
     ]
    },
    {
     "name": "stdin",
     "output_type": "stream",
     "text": [
      " 1\n"
     ]
    },
    {
     "name": "stdout",
     "output_type": "stream",
     "text": [
      "1) enqueue  2) delete  3) print  4) size 5) stop\n"
     ]
    },
    {
     "name": "stdin",
     "output_type": "stream",
     "text": [
      " 3\n"
     ]
    },
    {
     "name": "stdout",
     "output_type": "stream",
     "text": [
      "[5, 10]\n",
      "1) enqueue  2) delete  3) print  4) size 5) stop\n"
     ]
    },
    {
     "name": "stdin",
     "output_type": "stream",
     "text": [
      " 4\n"
     ]
    },
    {
     "name": "stdout",
     "output_type": "stream",
     "text": [
      "2\n",
      "1) enqueue  2) delete  3) print  4) size 5) stop\n"
     ]
    },
    {
     "name": "stdin",
     "output_type": "stream",
     "text": [
      " 5\n"
     ]
    }
   ],
   "source": [
    "class Q:\n",
    "    def __init__(s):\n",
    "        s.items=[]\n",
    "    def enq(s,i):\n",
    "        print(\"Enter\\n1) insert in front\\n2) insert in back\")\n",
    "        x=int(input())\n",
    "        if x==1:\n",
    "            s.items.append(i)\n",
    "        elif x==2:\n",
    "            s.items.insert(0,i)\n",
    "    def delete(s):\n",
    "        print(\"Enter\\n1) delete from front\\n2) delete from back\")\n",
    "        i=int(input())\n",
    "        if i==1:\n",
    "            s.items.pop(0)\n",
    "        elif i==2:\n",
    "            s.items.pop()\n",
    "    def print(s):\n",
    "        print(s.items)\n",
    "    def size(s):\n",
    "        print(len(s.items))\n",
    "q=Q()\n",
    "while 1:\n",
    "    print(\"1) enqueue  2) delete  3) print  4) size 5) stop\")\n",
    "    n=int(input())\n",
    "    if n==1:\n",
    "        x=int(input(\"Enter number\"))\n",
    "        q.enq(x)\n",
    "    elif n==2:\n",
    "        q.delete()\n",
    "    elif n==3:\n",
    "        q.print()\n",
    "    elif n==4:\n",
    "        q.size()\n",
    "    elif n==5:\n",
    "        break"
   ]
  },
  {
   "cell_type": "code",
   "execution_count": null,
   "metadata": {},
   "outputs": [],
   "source": []
  }
 ],
 "metadata": {
  "kernelspec": {
   "display_name": "Python 3",
   "language": "python",
   "name": "python3"
  },
  "language_info": {
   "codemirror_mode": {
    "name": "ipython",
    "version": 3
   },
   "file_extension": ".py",
   "mimetype": "text/x-python",
   "name": "python",
   "nbconvert_exporter": "python",
   "pygments_lexer": "ipython3",
   "version": "3.7.3"
  }
 },
 "nbformat": 4,
 "nbformat_minor": 4
}

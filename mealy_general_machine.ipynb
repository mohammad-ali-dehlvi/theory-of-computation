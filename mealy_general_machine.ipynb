{
 "cells": [
  {
   "cell_type": "markdown",
   "metadata": {},
   "source": [
    "mealy general machine"
   ]
  },
  {
   "cell_type": "code",
   "execution_count": 1,
   "metadata": {},
   "outputs": [
    {
     "name": "stdin",
     "output_type": "stream",
     "text": [
      "Enter number of states :  2\n"
     ]
    },
    {
     "name": "stdout",
     "output_type": "stream",
     "text": [
      "State set :  ['A', 'B']\n"
     ]
    },
    {
     "name": "stdin",
     "output_type": "stream",
     "text": [
      "Enter initial state :  a\n",
      "Enter the input set :  0 1\n",
      "Enter the output set :  even odd\n"
     ]
    },
    {
     "name": "stdout",
     "output_type": "stream",
     "text": [
      "A on input 0 gives output : "
     ]
    },
    {
     "name": "stdin",
     "output_type": "stream",
     "text": [
      " even\n"
     ]
    },
    {
     "name": "stdout",
     "output_type": "stream",
     "text": [
      "              goes on state : "
     ]
    },
    {
     "name": "stdin",
     "output_type": "stream",
     "text": [
      " a\n"
     ]
    },
    {
     "name": "stdout",
     "output_type": "stream",
     "text": [
      "A on input 1 gives output : "
     ]
    },
    {
     "name": "stdin",
     "output_type": "stream",
     "text": [
      " odd\n"
     ]
    },
    {
     "name": "stdout",
     "output_type": "stream",
     "text": [
      "              goes on state : "
     ]
    },
    {
     "name": "stdin",
     "output_type": "stream",
     "text": [
      " b\n"
     ]
    },
    {
     "name": "stdout",
     "output_type": "stream",
     "text": [
      "B on input 0 gives output : "
     ]
    },
    {
     "name": "stdin",
     "output_type": "stream",
     "text": [
      " odd\n"
     ]
    },
    {
     "name": "stdout",
     "output_type": "stream",
     "text": [
      "              goes on state : "
     ]
    },
    {
     "name": "stdin",
     "output_type": "stream",
     "text": [
      " b\n"
     ]
    },
    {
     "name": "stdout",
     "output_type": "stream",
     "text": [
      "B on input 1 gives output : "
     ]
    },
    {
     "name": "stdin",
     "output_type": "stream",
     "text": [
      " even\n"
     ]
    },
    {
     "name": "stdout",
     "output_type": "stream",
     "text": [
      "              goes on state : "
     ]
    },
    {
     "name": "stdin",
     "output_type": "stream",
     "text": [
      " a\n",
      "Enter string :  1001101\n"
     ]
    },
    {
     "name": "stdout",
     "output_type": "stream",
     "text": [
      "A on input 1 goes to B gives output ODD\n",
      "B on input 0 goes to B gives output ODD\n",
      "B on input 0 goes to B gives output ODD\n",
      "B on input 1 goes to A gives output EVEN\n",
      "A on input 1 goes to B gives output ODD\n",
      "B on input 0 goes to B gives output ODD\n",
      "B on input 1 goes to A gives output EVEN\n",
      "1) For combined output\n",
      "2) For last output\n"
     ]
    },
    {
     "name": "stdin",
     "output_type": "stream",
     "text": [
      " 2\n"
     ]
    },
    {
     "name": "stdout",
     "output_type": "stream",
     "text": [
      "EVEN\n",
      "You want to test another string\n",
      "1) yes   2) no\n"
     ]
    },
    {
     "name": "stdin",
     "output_type": "stream",
     "text": [
      " 2\n"
     ]
    },
    {
     "name": "stdout",
     "output_type": "stream",
     "text": [
      "State    input  output  state   |input  output  state   |\n",
      "A        0      EVEN    A       |1      ODD     B       |\n",
      "B        0      ODD     B       |1      EVEN    A       |\n"
     ]
    }
   ],
   "source": [
    "class mealy:\n",
    "    def __init__(s):\n",
    "        q=int(input(\"Enter number of states : \"))\n",
    "        s.ql=[chr(ord('A')+i) for i in range(q)]\n",
    "        print(\"State set : \",s.ql)\n",
    "        s.ini=input(\"Enter initial state : \").upper()\n",
    "        while s.ini not in s.ql:\n",
    "            print(\"Enter valid state\")\n",
    "            s.ini=input().upper()\n",
    "        s.l=[x for x in input(\"Enter the input set : \").split()]\n",
    "        s.o=[x.upper() for x in input(\"Enter the output set : \").split()]\n",
    "        s.dfa={}\n",
    "        for i in range(len(s.ql)):\n",
    "            s.dfa[s.ql[i]]={}\n",
    "            for j in range(len(s.l)):\n",
    "                print(\"{} on input {} gives output : \".format(s.ql[i],s.l[j]),end=\"\")\n",
    "                x=input().upper()\n",
    "                while x not in s.o:\n",
    "                    print(\"Enter valid output\")\n",
    "                    x=input().upper()\n",
    "                s.dfa[s.ql[i]][s.l[j]]={'output':x}\n",
    "                print(\"              goes on state : \",end=\"\")\n",
    "                x=input().upper()\n",
    "                while x not in s.ql:\n",
    "                    print(\"Enter valid state\")\n",
    "                    x=input().upper()\n",
    "                s.dfa[s.ql[i]][s.l[j]]['state']=x\n",
    "    def output(s,string):\n",
    "        string=string.upper()\n",
    "        c=0\n",
    "        s.oa=[]\n",
    "        x=s.ini\n",
    "        for i in string:\n",
    "            if i not in s.l:\n",
    "                z=i\n",
    "                c=-1\n",
    "                break\n",
    "            print(\"{} on input {} goes to {} gives output {}\".format(x,i,s.dfa[x][i]['state'],s.dfa[x][i]['output']))\n",
    "            s.oa.append(s.dfa[x][i]['output'])\n",
    "            x=s.dfa[x][i]['state']\n",
    "        if c==-1:\n",
    "            print(z,\" is not valid alphabet\")\n",
    "        print(\"1) For combined output\\n2) For last output\")\n",
    "        x=int(input())\n",
    "        while x!=1 and x!=2:\n",
    "            x=int(input(\"Enter 1 or 2\"))\n",
    "        if x==1:\n",
    "            print(''.join(s.oa))\n",
    "        else:\n",
    "            print(s.oa[-1])\n",
    "    def table(s):\n",
    "        print(\"State    \",end=\"\")\n",
    "        for i in range(len(s.l)):\n",
    "            print(\"input  output  state   |\",end=\"\")\n",
    "        print()\n",
    "        z=[\" \"]\n",
    "        for i in range(len(s.ql)):\n",
    "            print(\"{}        \".format(s.ql[i]),end=\"\")\n",
    "            for j in range(len(s.l)):\n",
    "                print(\"{}\".format(s.l[j]),end=\"\")\n",
    "                z=z*(7-len(s.l[j]))\n",
    "                print(''.join(z),end=\"\")\n",
    "                z=[\" \"]\n",
    "                print(\"{}\".format(s.dfa[s.ql[i]][s.l[j]]['output']),end=\"\")\n",
    "                z=z*(8-len(s.dfa[s.ql[i]][s.l[j]]['output']))\n",
    "                print(''.join(z),end=\"\")\n",
    "                z=[\" \"]\n",
    "                print(\"{}\".format(s.dfa[s.ql[i]][s.l[j]]['state']),end=\"\")\n",
    "                z=z*(8-len(s.dfa[s.ql[i]][s.l[j]]['state']))\n",
    "                print(\"{}|\".format(''.join(z)),end=\"\")\n",
    "                z=[\" \"]\n",
    "                #print(\"{}      {}       {}        \".format(s.l[i],s.dfa[s.ql[i]][s.l[i]]['output'],s.dfa[s.ql[i]][s.l[i]]['state']),end=\"\")\n",
    "            print()\n",
    "if __name__==\"__main__\":\n",
    "    o=mealy()\n",
    "    while 1:\n",
    "        s=input(\"Enter string : \")\n",
    "        o.output(s)\n",
    "        print(\"You want to test another string\\n1) yes   2) no\")\n",
    "        x=int(input())\n",
    "        while x!=1 and x!=2:\n",
    "            print(x,\" is not  valit\\nEnter 1 or 2\")\n",
    "            x=int(input())\n",
    "        if x==2:\n",
    "            break\n",
    "    o.table()"
   ]
  },
  {
   "cell_type": "code",
   "execution_count": null,
   "metadata": {},
   "outputs": [],
   "source": []
  }
 ],
 "metadata": {
  "kernelspec": {
   "display_name": "Python 3",
   "language": "python",
   "name": "python3"
  },
  "language_info": {
   "codemirror_mode": {
    "name": "ipython",
    "version": 3
   },
   "file_extension": ".py",
   "mimetype": "text/x-python",
   "name": "python",
   "nbconvert_exporter": "python",
   "pygments_lexer": "ipython3",
   "version": "3.7.3"
  }
 },
 "nbformat": 4,
 "nbformat_minor": 4
}
